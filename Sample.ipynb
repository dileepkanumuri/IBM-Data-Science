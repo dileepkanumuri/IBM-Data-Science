{
    "cells": [
        {
            "metadata": {},
            "cell_type": "markdown",
            "source": "# My Jupyter Notebook on IBM Watson Studio\n\n"
        },
        {
            "metadata": {},
            "cell_type": "markdown",
            "source": "__Dileep Kanumuri__ \n\nData Analyst"
        },
        {
            "metadata": {},
            "cell_type": "markdown",
            "source": "_I am interested in data science because I love Story telling and I love the fact that how fast the world is witnessing the applications of it. Finally also Can't ignore the fact that I'm a curious person_."
        },
        {
            "metadata": {},
            "cell_type": "code",
            "source": "a=170\nb=163\n\n#Add two Numbers\nTotal=a+b\n\n#Display the Sum\nprint(Total)",
            "execution_count": 6,
            "outputs": [
                {
                    "output_type": "stream",
                    "text": "333\n",
                    "name": "stdout"
                }
            ]
        },
        {
            "metadata": {},
            "cell_type": "markdown",
            "source": "* Apple\n- Beetroot\n+ Carrot\n\nThis `code` is `just a sample` sum.\n\n\n[This Directs you to Kaggle](https://www.kaggle.com/)"
        },
        {
            "metadata": {},
            "cell_type": "code",
            "source": "",
            "execution_count": null,
            "outputs": []
        }
    ],
    "metadata": {
        "kernelspec": {
            "name": "python3",
            "display_name": "Python 3.7",
            "language": "python"
        },
        "language_info": {
            "name": "python",
            "version": "3.7.10",
            "mimetype": "text/x-python",
            "codemirror_mode": {
                "name": "ipython",
                "version": 3
            },
            "pygments_lexer": "ipython3",
            "nbconvert_exporter": "python",
            "file_extension": ".py"
        }
    },
    "nbformat": 4,
    "nbformat_minor": 1
}